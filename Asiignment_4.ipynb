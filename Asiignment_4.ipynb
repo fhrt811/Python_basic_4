{
 "cells": [
  {
   "cell_type": "code",
   "execution_count": null,
   "id": "9016574c",
   "metadata": {},
   "outputs": [],
   "source": [
    "Q1:\n",
    "What exactly is []?"
   ]
  },
  {
   "cell_type": "code",
   "execution_count": null,
   "id": "41d57a1f",
   "metadata": {},
   "outputs": [],
   "source": [
    "Ans1:\n",
    "[] is an empty list.\n",
    "just like an empty string ' '."
   ]
  },
  {
   "cell_type": "code",
   "execution_count": null,
   "id": "157c6e81",
   "metadata": {},
   "outputs": [],
   "source": [
    "Q2:\n",
    "in a list of values stored in a variable called spam, how would you assign the value 'hello' as the third value?\n",
    "(Assume [2, 4, 6, 8, 10] are in spam.)"
   ]
  },
  {
   "cell_type": "code",
   "execution_count": 5,
   "id": "1d7eaf7b",
   "metadata": {},
   "outputs": [
    {
     "data": {
      "text/plain": [
       "[2, 4, 'hello', 8, 10]"
      ]
     },
     "execution_count": 5,
     "metadata": {},
     "output_type": "execute_result"
    }
   ],
   "source": [
    "#Ans2:\n",
    "#third value will have an index '2' because index will start from '0'.\n",
    "spam=[2, 4, 6, 8, 10]\n",
    "spam[2]='hello'\n",
    "spam"
   ]
  },
  {
   "cell_type": "code",
   "execution_count": 6,
   "id": "00603d42",
   "metadata": {},
   "outputs": [],
   "source": [
    "#Let's pretend the spam includes the list ['a', 'b', 'c', 'd'] for the next three queries.\n",
    "spam=['a', 'b', 'c', 'd']"
   ]
  },
  {
   "cell_type": "code",
   "execution_count": null,
   "id": "fb97859d",
   "metadata": {},
   "outputs": [],
   "source": [
    "Q3:\n",
    "What is the value of spam[int(int('3' * 2) / 11)]?"
   ]
  },
  {
   "cell_type": "code",
   "execution_count": null,
   "id": "79934cc0",
   "metadata": {},
   "outputs": [],
   "source": [
    "Ans3:\n",
    "'3'*2 = '33' # string value '3' is mustiplied by 2 gives '33'\n",
    "int('33')=33 # '33' converted into integer gives integer value of '33'\n",
    "int(33/11) #gives 3 (integer value)\n",
    "spam[3] #gives the fourth index i.e. 'd'"
   ]
  },
  {
   "cell_type": "code",
   "execution_count": 7,
   "id": "1997bc49",
   "metadata": {},
   "outputs": [
    {
     "data": {
      "text/plain": [
       "'d'"
      ]
     },
     "execution_count": 7,
     "metadata": {},
     "output_type": "execute_result"
    }
   ],
   "source": [
    "spam[int(int('3' * 2) / 11)]"
   ]
  },
  {
   "cell_type": "code",
   "execution_count": null,
   "id": "3d351bf2",
   "metadata": {},
   "outputs": [],
   "source": [
    "Q4:\n",
    "What is the value of spam[-1]?"
   ]
  },
  {
   "cell_type": "code",
   "execution_count": null,
   "id": "858cd8d2",
   "metadata": {},
   "outputs": [],
   "source": [
    "Ans4:\n",
    "The value of spam[-1] gives 'd' because the negative index starts counting from end and the first negative index will \n",
    "start from -1"
   ]
  },
  {
   "cell_type": "code",
   "execution_count": 8,
   "id": "74475f16",
   "metadata": {},
   "outputs": [
    {
     "data": {
      "text/plain": [
       "'d'"
      ]
     },
     "execution_count": 8,
     "metadata": {},
     "output_type": "execute_result"
    }
   ],
   "source": [
    "spam[-1]"
   ]
  },
  {
   "cell_type": "code",
   "execution_count": null,
   "id": "52745025",
   "metadata": {},
   "outputs": [],
   "source": [
    "Q5:\n",
    "What is the value of spam[:2]"
   ]
  },
  {
   "cell_type": "code",
   "execution_count": null,
   "id": "c5219013",
   "metadata": {},
   "outputs": [],
   "source": [
    "Ans5:\n",
    "The spam[:2] will gives a partial list starts from index zero upto index 1, because element at index 2 will be excluded.\n",
    "['a', 'b']"
   ]
  },
  {
   "cell_type": "code",
   "execution_count": 9,
   "id": "b5654234",
   "metadata": {},
   "outputs": [
    {
     "data": {
      "text/plain": [
       "['a', 'b']"
      ]
     },
     "execution_count": 9,
     "metadata": {},
     "output_type": "execute_result"
    }
   ],
   "source": [
    "spam[:2]"
   ]
  },
  {
   "cell_type": "code",
   "execution_count": null,
   "id": "3149ab9b",
   "metadata": {},
   "outputs": [],
   "source": [
    "let's pretend bacon has the list [3.14, 'cat', 11, 'cat', True] for the next three questions."
   ]
  },
  {
   "cell_type": "code",
   "execution_count": 11,
   "id": "cc22c712",
   "metadata": {},
   "outputs": [],
   "source": [
    "bacon=[3.14, 'cat', 11, 'cat', True]"
   ]
  },
  {
   "cell_type": "code",
   "execution_count": null,
   "id": "4c7bd282",
   "metadata": {},
   "outputs": [],
   "source": [
    "Q6:\n",
    "What is the value of bacon.index('cat')?"
   ]
  },
  {
   "cell_type": "code",
   "execution_count": null,
   "id": "f0ae3447",
   "metadata": {},
   "outputs": [],
   "source": [
    "Ans6:\n",
    "bacon.index('cat') gives the index number of element 'cat' in the list, occured first time."
   ]
  },
  {
   "cell_type": "code",
   "execution_count": 12,
   "id": "32a164e4",
   "metadata": {},
   "outputs": [
    {
     "data": {
      "text/plain": [
       "1"
      ]
     },
     "execution_count": 12,
     "metadata": {},
     "output_type": "execute_result"
    }
   ],
   "source": [
    "bacon.index('cat')"
   ]
  },
  {
   "cell_type": "code",
   "execution_count": null,
   "id": "e7848cbd",
   "metadata": {},
   "outputs": [],
   "source": [
    "Q7:\n",
    "What does bacon.append(99) change the look of the list value in bacon?"
   ]
  },
  {
   "cell_type": "code",
   "execution_count": null,
   "id": "180b29c2",
   "metadata": {},
   "outputs": [],
   "source": [
    "Ans7:\n",
    "bacon.append(99) will add an element 99 at the last place in the list and increase the size of the list."
   ]
  },
  {
   "cell_type": "code",
   "execution_count": 17,
   "id": "b33943e0",
   "metadata": {},
   "outputs": [
    {
     "data": {
      "text/plain": [
       "[3.14, 'cat', 11, 'cat', True, 99]"
      ]
     },
     "execution_count": 17,
     "metadata": {},
     "output_type": "execute_result"
    }
   ],
   "source": [
    "bacon.append(99)\n",
    "bacon"
   ]
  },
  {
   "cell_type": "code",
   "execution_count": null,
   "id": "896f98c5",
   "metadata": {},
   "outputs": [],
   "source": [
    "Q8:\n",
    "What does bacon.remove('cat') change the look of the list in bacon?"
   ]
  },
  {
   "cell_type": "code",
   "execution_count": null,
   "id": "2ded2f1f",
   "metadata": {
    "collapsed": true
   },
   "outputs": [],
   "source": [
    "Ans8:\n",
    "bacon.remove('cat') will remove the first occured 'cat' element from the list"
   ]
  },
  {
   "cell_type": "code",
   "execution_count": 18,
   "id": "75cc6af0",
   "metadata": {},
   "outputs": [],
   "source": [
    "bacon.remove('cat')"
   ]
  },
  {
   "cell_type": "code",
   "execution_count": 19,
   "id": "e9ca4b81",
   "metadata": {},
   "outputs": [
    {
     "data": {
      "text/plain": [
       "[3.14, 11, 'cat', True, 99]"
      ]
     },
     "execution_count": 19,
     "metadata": {},
     "output_type": "execute_result"
    }
   ],
   "source": [
    "bacon"
   ]
  },
  {
   "cell_type": "code",
   "execution_count": null,
   "id": "e02de960",
   "metadata": {},
   "outputs": [],
   "source": [
    "Q9:\n",
    "What are the list concatenation and list replication operators?"
   ]
  },
  {
   "cell_type": "code",
   "execution_count": null,
   "id": "06b52a29",
   "metadata": {},
   "outputs": [],
   "source": [
    "Ans9:\n",
    "The list concatenation operator is '+', while the list replication operator is '*'."
   ]
  },
  {
   "cell_type": "code",
   "execution_count": 23,
   "id": "d96d0cf8",
   "metadata": {},
   "outputs": [
    {
     "name": "stdout",
     "output_type": "stream",
     "text": [
      "['a', 'b', 'c', 'x', 'y', 'z']\n",
      "['a', 'b', 'c', 'a', 'b', 'c']\n"
     ]
    }
   ],
   "source": [
    "x=['a','b','c']+['x','y','z'] #List concatenation\n",
    "y=['a','b','c']*2 #List replication\n",
    "print(x)\n",
    "print(y)"
   ]
  },
  {
   "cell_type": "code",
   "execution_count": null,
   "id": "cba3146d",
   "metadata": {},
   "outputs": [],
   "source": [
    "Q10:\n",
    "What is the difference between the list methods append() and insert()?"
   ]
  },
  {
   "cell_type": "code",
   "execution_count": null,
   "id": "a5baecf7",
   "metadata": {},
   "outputs": [],
   "source": [
    "Ans10:\n",
    "List method append() adds an element at the end of the list whereas list method insert() can add element anywhere in the list."
   ]
  },
  {
   "cell_type": "code",
   "execution_count": null,
   "id": "5d136329",
   "metadata": {},
   "outputs": [],
   "source": [
    "Q11:\n",
    "What are two methods for removing items from a list?"
   ]
  },
  {
   "cell_type": "code",
   "execution_count": null,
   "id": "3cd623f3",
   "metadata": {},
   "outputs": [],
   "source": [
    "Ans11:\n",
    "The two methods for removing items from the list are:\n",
    "1) pop()\n",
    "2) remove()"
   ]
  },
  {
   "cell_type": "code",
   "execution_count": null,
   "id": "8b2a7b6e",
   "metadata": {},
   "outputs": [],
   "source": [
    "Q12:\n",
    "Describe how list values and string values are identical"
   ]
  },
  {
   "cell_type": "code",
   "execution_count": null,
   "id": "ab1e25a7",
   "metadata": {},
   "outputs": [],
   "source": [
    "Ans12:\n",
    "List values and string values both support slice operation, have indexes, supports len() operation, can be concatinated and\n",
    "replicated."
   ]
  },
  {
   "cell_type": "code",
   "execution_count": null,
   "id": "1c701b5f",
   "metadata": {},
   "outputs": [],
   "source": [
    "Q13:\n",
    "What's the difference between tuples and list?"
   ]
  },
  {
   "cell_type": "code",
   "execution_count": null,
   "id": "f7e2286a",
   "metadata": {},
   "outputs": [],
   "source": [
    "Ans13:\n",
    "Lists uses square brackets [] while Tuples uses parentheses ().\n",
    "Lists are mutable set of element, their values can be added, removed, or changed.\n",
    "Tuples are immutable, they cannot be changed at all."
   ]
  },
  {
   "cell_type": "code",
   "execution_count": null,
   "id": "6af15734",
   "metadata": {},
   "outputs": [],
   "source": [
    "Q14:\n",
    "How do you type a tuple value that only contains the integer 42?"
   ]
  },
  {
   "cell_type": "code",
   "execution_count": null,
   "id": "6f04298b",
   "metadata": {},
   "outputs": [],
   "source": [
    "Ans14:\n",
    "using a trailing comma, we can type a tuple having only an integer.\n",
    "(42,)"
   ]
  },
  {
   "cell_type": "code",
   "execution_count": 24,
   "id": "9404b11d",
   "metadata": {},
   "outputs": [
    {
     "data": {
      "text/plain": [
       "tuple"
      ]
     },
     "execution_count": 24,
     "metadata": {},
     "output_type": "execute_result"
    }
   ],
   "source": [
    "a=(42,)\n",
    "type(a)"
   ]
  },
  {
   "cell_type": "code",
   "execution_count": null,
   "id": "9572a47d",
   "metadata": {},
   "outputs": [],
   "source": [
    "Q15:\n",
    "How do you get a list value's tuple form? How do you get a tuple value's list form?"
   ]
  },
  {
   "cell_type": "code",
   "execution_count": null,
   "id": "3b43bc38",
   "metadata": {},
   "outputs": [],
   "source": [
    "Ans15:\n",
    "The function tuple() gives list value's tuple form and the function list() gives tuple value's list form."
   ]
  },
  {
   "cell_type": "code",
   "execution_count": null,
   "id": "17d7ae84",
   "metadata": {},
   "outputs": [],
   "source": [
    "Q16:\n",
    "Variables that \"contain\" list values are not necessarily lists themselves. Instead, what do they contain?"
   ]
  },
  {
   "cell_type": "code",
   "execution_count": null,
   "id": "e639078f",
   "metadata": {},
   "outputs": [],
   "source": [
    "Ans16:\n",
    "They contain references to the list values."
   ]
  },
  {
   "cell_type": "code",
   "execution_count": null,
   "id": "930ebca8",
   "metadata": {},
   "outputs": [],
   "source": [
    "Q17:\n",
    "How to you distinguish between copy.copy() and copy.deepcopy()?"
   ]
  },
  {
   "cell_type": "code",
   "execution_count": null,
   "id": "1c6a8ecc",
   "metadata": {},
   "outputs": [],
   "source": [
    "Ans17:\n",
    "The copy.copy() function will do a shallow copy of a list, whereas the copy.deepcopy() function will do a deep copy of a list.\n",
    "That is, only the copy.deepcopy() will duplicate any lists inside the list."
   ]
  }
 ],
 "metadata": {
  "kernelspec": {
   "display_name": "Python 3 (ipykernel)",
   "language": "python",
   "name": "python3"
  },
  "language_info": {
   "codemirror_mode": {
    "name": "ipython",
    "version": 3
   },
   "file_extension": ".py",
   "mimetype": "text/x-python",
   "name": "python",
   "nbconvert_exporter": "python",
   "pygments_lexer": "ipython3",
   "version": "3.9.13"
  }
 },
 "nbformat": 4,
 "nbformat_minor": 5
}
